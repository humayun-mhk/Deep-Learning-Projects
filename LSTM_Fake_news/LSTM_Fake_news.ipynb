{
  "nbformat": 4,
  "nbformat_minor": 0,
  "metadata": {
    "colab": {
      "provenance": []
    },
    "kernelspec": {
      "name": "python3",
      "display_name": "Python 3"
    },
    "language_info": {
      "name": "python"
    }
  },
  "cells": [
    {
      "cell_type": "code",
      "execution_count": 12,
      "metadata": {
        "id": "JSTJcMYBI8pg"
      },
      "outputs": [],
      "source": [
        "import pandas as pd\n",
        "\n",
        "real = pd.read_csv(\"/content/true.csv\")\n",
        "fake = pd.read_csv(\"/content/fake.csv\")\n",
        "\n",
        "# Add labels\n",
        "\n",
        "real[\"label\"] = 1\n",
        "fake[\"label\"] = 0\n",
        "\n",
        "# Combine the datasets\n",
        "\n",
        "df = pd.concat([real,fake], ignore_index = True)\n",
        "\n",
        "\n",
        "df = df.sample(frac=1).reset_index(drop=True)"
      ]
    },
    {
      "cell_type": "code",
      "source": [
        "df.head(2)"
      ],
      "metadata": {
        "colab": {
          "base_uri": "https://localhost:8080/",
          "height": 147
        },
        "id": "3H5YvYhnKnMg",
        "outputId": "f015b488-5797-4fb6-ebb6-6c982c2d2cce"
      },
      "execution_count": 13,
      "outputs": [
        {
          "output_type": "execute_result",
          "data": {
            "text/plain": [
              "                                               title  \\\n",
              "0  Australian women go pro on back of investment ...   \n",
              "1  More Californians dreaming of a country withou...   \n",
              "\n",
              "                                                text       subject  \\\n",
              "0  MELBOURNE (Reuters) - Lisa De Vanna once had t...  politicsNews   \n",
              "1  SACRAMENTO, Calif. (Reuters) - The election of...  politicsNews   \n",
              "\n",
              "                  date  label  \n",
              "0  September 21, 2017       1  \n",
              "1    January 23, 2017       1  "
            ],
            "text/html": [
              "\n",
              "  <div id=\"df-f44365f3-e4ee-46e6-ba42-ab51283f80ec\" class=\"colab-df-container\">\n",
              "    <div>\n",
              "<style scoped>\n",
              "    .dataframe tbody tr th:only-of-type {\n",
              "        vertical-align: middle;\n",
              "    }\n",
              "\n",
              "    .dataframe tbody tr th {\n",
              "        vertical-align: top;\n",
              "    }\n",
              "\n",
              "    .dataframe thead th {\n",
              "        text-align: right;\n",
              "    }\n",
              "</style>\n",
              "<table border=\"1\" class=\"dataframe\">\n",
              "  <thead>\n",
              "    <tr style=\"text-align: right;\">\n",
              "      <th></th>\n",
              "      <th>title</th>\n",
              "      <th>text</th>\n",
              "      <th>subject</th>\n",
              "      <th>date</th>\n",
              "      <th>label</th>\n",
              "    </tr>\n",
              "  </thead>\n",
              "  <tbody>\n",
              "    <tr>\n",
              "      <th>0</th>\n",
              "      <td>Australian women go pro on back of investment ...</td>\n",
              "      <td>MELBOURNE (Reuters) - Lisa De Vanna once had t...</td>\n",
              "      <td>politicsNews</td>\n",
              "      <td>September 21, 2017</td>\n",
              "      <td>1</td>\n",
              "    </tr>\n",
              "    <tr>\n",
              "      <th>1</th>\n",
              "      <td>More Californians dreaming of a country withou...</td>\n",
              "      <td>SACRAMENTO, Calif. (Reuters) - The election of...</td>\n",
              "      <td>politicsNews</td>\n",
              "      <td>January 23, 2017</td>\n",
              "      <td>1</td>\n",
              "    </tr>\n",
              "  </tbody>\n",
              "</table>\n",
              "</div>\n",
              "    <div class=\"colab-df-buttons\">\n",
              "\n",
              "  <div class=\"colab-df-container\">\n",
              "    <button class=\"colab-df-convert\" onclick=\"convertToInteractive('df-f44365f3-e4ee-46e6-ba42-ab51283f80ec')\"\n",
              "            title=\"Convert this dataframe to an interactive table.\"\n",
              "            style=\"display:none;\">\n",
              "\n",
              "  <svg xmlns=\"http://www.w3.org/2000/svg\" height=\"24px\" viewBox=\"0 -960 960 960\">\n",
              "    <path d=\"M120-120v-720h720v720H120Zm60-500h600v-160H180v160Zm220 220h160v-160H400v160Zm0 220h160v-160H400v160ZM180-400h160v-160H180v160Zm440 0h160v-160H620v160ZM180-180h160v-160H180v160Zm440 0h160v-160H620v160Z\"/>\n",
              "  </svg>\n",
              "    </button>\n",
              "\n",
              "  <style>\n",
              "    .colab-df-container {\n",
              "      display:flex;\n",
              "      gap: 12px;\n",
              "    }\n",
              "\n",
              "    .colab-df-convert {\n",
              "      background-color: #E8F0FE;\n",
              "      border: none;\n",
              "      border-radius: 50%;\n",
              "      cursor: pointer;\n",
              "      display: none;\n",
              "      fill: #1967D2;\n",
              "      height: 32px;\n",
              "      padding: 0 0 0 0;\n",
              "      width: 32px;\n",
              "    }\n",
              "\n",
              "    .colab-df-convert:hover {\n",
              "      background-color: #E2EBFA;\n",
              "      box-shadow: 0px 1px 2px rgba(60, 64, 67, 0.3), 0px 1px 3px 1px rgba(60, 64, 67, 0.15);\n",
              "      fill: #174EA6;\n",
              "    }\n",
              "\n",
              "    .colab-df-buttons div {\n",
              "      margin-bottom: 4px;\n",
              "    }\n",
              "\n",
              "    [theme=dark] .colab-df-convert {\n",
              "      background-color: #3B4455;\n",
              "      fill: #D2E3FC;\n",
              "    }\n",
              "\n",
              "    [theme=dark] .colab-df-convert:hover {\n",
              "      background-color: #434B5C;\n",
              "      box-shadow: 0px 1px 3px 1px rgba(0, 0, 0, 0.15);\n",
              "      filter: drop-shadow(0px 1px 2px rgba(0, 0, 0, 0.3));\n",
              "      fill: #FFFFFF;\n",
              "    }\n",
              "  </style>\n",
              "\n",
              "    <script>\n",
              "      const buttonEl =\n",
              "        document.querySelector('#df-f44365f3-e4ee-46e6-ba42-ab51283f80ec button.colab-df-convert');\n",
              "      buttonEl.style.display =\n",
              "        google.colab.kernel.accessAllowed ? 'block' : 'none';\n",
              "\n",
              "      async function convertToInteractive(key) {\n",
              "        const element = document.querySelector('#df-f44365f3-e4ee-46e6-ba42-ab51283f80ec');\n",
              "        const dataTable =\n",
              "          await google.colab.kernel.invokeFunction('convertToInteractive',\n",
              "                                                    [key], {});\n",
              "        if (!dataTable) return;\n",
              "\n",
              "        const docLinkHtml = 'Like what you see? Visit the ' +\n",
              "          '<a target=\"_blank\" href=https://colab.research.google.com/notebooks/data_table.ipynb>data table notebook</a>'\n",
              "          + ' to learn more about interactive tables.';\n",
              "        element.innerHTML = '';\n",
              "        dataTable['output_type'] = 'display_data';\n",
              "        await google.colab.output.renderOutput(dataTable, element);\n",
              "        const docLink = document.createElement('div');\n",
              "        docLink.innerHTML = docLinkHtml;\n",
              "        element.appendChild(docLink);\n",
              "      }\n",
              "    </script>\n",
              "  </div>\n",
              "\n",
              "\n",
              "    <div id=\"df-d6271cdc-d1b4-4198-b1eb-04d3dcf82098\">\n",
              "      <button class=\"colab-df-quickchart\" onclick=\"quickchart('df-d6271cdc-d1b4-4198-b1eb-04d3dcf82098')\"\n",
              "                title=\"Suggest charts\"\n",
              "                style=\"display:none;\">\n",
              "\n",
              "<svg xmlns=\"http://www.w3.org/2000/svg\" height=\"24px\"viewBox=\"0 0 24 24\"\n",
              "     width=\"24px\">\n",
              "    <g>\n",
              "        <path d=\"M19 3H5c-1.1 0-2 .9-2 2v14c0 1.1.9 2 2 2h14c1.1 0 2-.9 2-2V5c0-1.1-.9-2-2-2zM9 17H7v-7h2v7zm4 0h-2V7h2v10zm4 0h-2v-4h2v4z\"/>\n",
              "    </g>\n",
              "</svg>\n",
              "      </button>\n",
              "\n",
              "<style>\n",
              "  .colab-df-quickchart {\n",
              "      --bg-color: #E8F0FE;\n",
              "      --fill-color: #1967D2;\n",
              "      --hover-bg-color: #E2EBFA;\n",
              "      --hover-fill-color: #174EA6;\n",
              "      --disabled-fill-color: #AAA;\n",
              "      --disabled-bg-color: #DDD;\n",
              "  }\n",
              "\n",
              "  [theme=dark] .colab-df-quickchart {\n",
              "      --bg-color: #3B4455;\n",
              "      --fill-color: #D2E3FC;\n",
              "      --hover-bg-color: #434B5C;\n",
              "      --hover-fill-color: #FFFFFF;\n",
              "      --disabled-bg-color: #3B4455;\n",
              "      --disabled-fill-color: #666;\n",
              "  }\n",
              "\n",
              "  .colab-df-quickchart {\n",
              "    background-color: var(--bg-color);\n",
              "    border: none;\n",
              "    border-radius: 50%;\n",
              "    cursor: pointer;\n",
              "    display: none;\n",
              "    fill: var(--fill-color);\n",
              "    height: 32px;\n",
              "    padding: 0;\n",
              "    width: 32px;\n",
              "  }\n",
              "\n",
              "  .colab-df-quickchart:hover {\n",
              "    background-color: var(--hover-bg-color);\n",
              "    box-shadow: 0 1px 2px rgba(60, 64, 67, 0.3), 0 1px 3px 1px rgba(60, 64, 67, 0.15);\n",
              "    fill: var(--button-hover-fill-color);\n",
              "  }\n",
              "\n",
              "  .colab-df-quickchart-complete:disabled,\n",
              "  .colab-df-quickchart-complete:disabled:hover {\n",
              "    background-color: var(--disabled-bg-color);\n",
              "    fill: var(--disabled-fill-color);\n",
              "    box-shadow: none;\n",
              "  }\n",
              "\n",
              "  .colab-df-spinner {\n",
              "    border: 2px solid var(--fill-color);\n",
              "    border-color: transparent;\n",
              "    border-bottom-color: var(--fill-color);\n",
              "    animation:\n",
              "      spin 1s steps(1) infinite;\n",
              "  }\n",
              "\n",
              "  @keyframes spin {\n",
              "    0% {\n",
              "      border-color: transparent;\n",
              "      border-bottom-color: var(--fill-color);\n",
              "      border-left-color: var(--fill-color);\n",
              "    }\n",
              "    20% {\n",
              "      border-color: transparent;\n",
              "      border-left-color: var(--fill-color);\n",
              "      border-top-color: var(--fill-color);\n",
              "    }\n",
              "    30% {\n",
              "      border-color: transparent;\n",
              "      border-left-color: var(--fill-color);\n",
              "      border-top-color: var(--fill-color);\n",
              "      border-right-color: var(--fill-color);\n",
              "    }\n",
              "    40% {\n",
              "      border-color: transparent;\n",
              "      border-right-color: var(--fill-color);\n",
              "      border-top-color: var(--fill-color);\n",
              "    }\n",
              "    60% {\n",
              "      border-color: transparent;\n",
              "      border-right-color: var(--fill-color);\n",
              "    }\n",
              "    80% {\n",
              "      border-color: transparent;\n",
              "      border-right-color: var(--fill-color);\n",
              "      border-bottom-color: var(--fill-color);\n",
              "    }\n",
              "    90% {\n",
              "      border-color: transparent;\n",
              "      border-bottom-color: var(--fill-color);\n",
              "    }\n",
              "  }\n",
              "</style>\n",
              "\n",
              "      <script>\n",
              "        async function quickchart(key) {\n",
              "          const quickchartButtonEl =\n",
              "            document.querySelector('#' + key + ' button');\n",
              "          quickchartButtonEl.disabled = true;  // To prevent multiple clicks.\n",
              "          quickchartButtonEl.classList.add('colab-df-spinner');\n",
              "          try {\n",
              "            const charts = await google.colab.kernel.invokeFunction(\n",
              "                'suggestCharts', [key], {});\n",
              "          } catch (error) {\n",
              "            console.error('Error during call to suggestCharts:', error);\n",
              "          }\n",
              "          quickchartButtonEl.classList.remove('colab-df-spinner');\n",
              "          quickchartButtonEl.classList.add('colab-df-quickchart-complete');\n",
              "        }\n",
              "        (() => {\n",
              "          let quickchartButtonEl =\n",
              "            document.querySelector('#df-d6271cdc-d1b4-4198-b1eb-04d3dcf82098 button');\n",
              "          quickchartButtonEl.style.display =\n",
              "            google.colab.kernel.accessAllowed ? 'block' : 'none';\n",
              "        })();\n",
              "      </script>\n",
              "    </div>\n",
              "\n",
              "    </div>\n",
              "  </div>\n"
            ],
            "application/vnd.google.colaboratory.intrinsic+json": {
              "type": "dataframe",
              "variable_name": "df",
              "summary": "{\n  \"name\": \"df\",\n  \"rows\": 44898,\n  \"fields\": [\n    {\n      \"column\": \"title\",\n      \"properties\": {\n        \"dtype\": \"string\",\n        \"num_unique_values\": 38729,\n        \"samples\": [\n          \" Michele Bachmann Confuses Direct-To-DVD Movie Plots With Reality In New Obama Antichrist Theory\",\n          \" Watch As MSNBC Reporter Completely Humiliates Sean Spicer Over Trump\\u2019s Wiretapping B.S.\",\n          \"'No more woe is me': Senator McCain vows quick return to Washington\"\n        ],\n        \"semantic_type\": \"\",\n        \"description\": \"\"\n      }\n    },\n    {\n      \"column\": \"text\",\n      \"properties\": {\n        \"dtype\": \"string\",\n        \"num_unique_values\": 38646,\n        \"samples\": [\n          \"NAYPYITAW (Reuters) - Myanmar leader Aung San Suu Kyi on Tuesday gave her first address to the nation since attacks by Rohingya Muslim insurgents on Aug. 25 sparked a military response that has forced more than 410,000 Rohingya into neighboring Bangladesh. Suu Kyi condemned human rights violations and said anyone responsible would face the law but she did not address U.N. accusations that the military campaign in Rakhine state was  textbook  ethnic cleansing. Here are some reactions to her speech from diplomats, aid agency officials, human rights groups and others: JAMES GOMEZ, Amnesty International regional director for Southeast Asia and the Pacific.  Aung San Suu Kyi today demonstrated that she and her government are still burying their heads in the sand over the horrors unfolding in Rakhine State.   PHIL ROBERTSON, Human Rights Watch deputy director, Asia Division.  In response to Suu Kyi s statement that army clearance operations have ceased since Sept. 5 -  If that is true, then who is burning all the villages we ve seen in the past two weeks?  TIN MAUNG SWE, secretary of the Rakhine State government He praised Suu Kyi for her  transparency  but was not optimistic about her pledge to promote harmony between Muslims and the largely Buddhist ethnic Rakhine communities in the state.  The situation is ready to explode. It just needs a single spark.  SEIN WIN, Myanmar defense minister  We will protect the ones who are in line with the law ... There are still many Muslim villages. We are taking good care of them,  he said, as he arrived for Suu Kyi s speech. PAUL EDWARDS, UNICEF deputy representative in Myanmar  We have to take at face value what she said about there being no further military operation since Sept 5. But of course none of us really know what s happening there if we re not there.  MARZUKI DARUSMAN, chair of the Independent International Fact-Finding Mission on Myanmar  Two main issues emerge ... the categorical readiness of the government of Myanmar to receive back returnees at any time on the basis of a procedure that will have to be discussed at some point. And secondly, the readiness of the government to undertake to be globally scrutinized by the international community. These two points bode well.  HONG LIANG, Chinese ambassador to Myanmar  China s position is very clear. We support the Myanmar government s effort to restore the peace and stability in Rakhine.   NIKOLAY A. LISTOPADOV, Russian ambassador to Myanmar  There are not reliable proofs, evidence to make such a condemnation, genocide and ethnic cleansing, no evidence.  ANDREW KIRKWOOD, United Nations Office for Project Services director and representative in Myanmar He welcomed Suu Kyi s announcement that diplomats could  travel to Rakhine state to see the situation for themselves.  I think that that is a positive statement and we wait to see what follow-up there is.  NI LAR THEIN, Yangon resident attending an open-air broadcast of Suu Kyi s speech, which was in English.  Mother Suu gave a speech today so that the whole world can know what s actually happening in our country. We come here to show our support for her, no matter if we understand the speech or not.     \",\n          \"WASHINGTON (Reuters) - Supreme Court justices clashed on Tuesday over whether courts should curb the long-standing U.S. political practice of drawing electoral maps to entrench one party in power, with conservative Anthony Kennedy likely to cast the deciding vote. The nine justices heard an hour of arguments in the major voting rights case out of Wisconsin involving the practice known as partisan gerrymandering. Their ruling, due by June, could have an impact on U.S. elections for decades by setting standards for when electoral districts are laid out with such extreme partisan aims that they deprive voters of their constitutional rights. Kennedy, who sometimes sides with the court\\u2019s liberal justices in big rulings, did not definitively tip his hand on how he would rule but posed tough questions to Wisconsin\\u2019s lawyers that signaled his aversion to electoral districts drawn to give one party a lopsided advantage in elections.  Liberal justices voiced sympathy for the Democratic voters who challenged the Republican-drawn legislative map in Wisconsin as a violation of their constitutional rights. Conservative justices expressed doubt about whether courts should intervene in such highly political disputes, and questioned the challengers\\u2019 legal standing to bring the case. The court has a 5-4 conservative majority. Gerrymandering, a practice that began two centuries ago, involves manipulating boundaries of legislative districts to benefit one party and diminish another. Democratic and Republican critics argue that gerrymandering is becoming more extreme because it now can be guided by precise voter data and mapmaking technology, distorting the democratic process by letting politicians choose their voters rather than the other way around. Legislative districts in the 50 U.S. states, redrawn every decade after the national census to reflect population changes, represent the individual components of representative democracy. Kennedy pressed Erin Murphy, a lawyer for Wisconsin\\u2019s state Senate, on whether it would be unconstitutional for a state law to contain explicit provisions favoring one party over another. Murphy conceded it would be.  A federal three-judge panel ruled 2-1 last November that Wisconsin\\u2019s redistricting plan violated the Constitution\\u2019s First Amendment right to freedom of expression and association and 14th Amendment guarantee of equal protection under the law  because of the extent to which it marginalized Democratic voters. Wisconsin appealed that ruling to the high court. In a 2004 ruling in another case, Kennedy parted with his conservative colleagues to suggest that if partisan gerrymandering went too far, violating the Constitution, courts may have to step in if a \\u201cworkable standard\\u201d for deciding when to do that could be found.  \\u201cGerrymandering is distasteful,\\u201d conservative Justice Samuel Alito said. But Alito voiced doubt over whether the metrics used to measure gerrymandering, drawn from social science and endorsed by the lower court, were manageable. Conservative Chief Justice John Roberts called those metrics \\u201csociological gobbledygook.\\u201d Conservative Justice Neil Gorsuch said a court-approved formula for identifying unconstitutional gerrymandering would be hard to achieve, comparing various standards proposed to spices on a steak dinner. \\u201cWhat\\u2019s this court supposed to do? A pinch of this, a pinch of that?\\u201d he asked. He voiced doubt that the Constitution authorizes courts to step in at all. The challengers received some muscular support. \\u201cIt is time to terminate gerrymandering,\\u201d Republican former California governor Arnold Schwarzenegger, the star of the \\u201cTerminator\\u201d movies, told a rally outside the courthouse. Redistricting typically is done by the party controlling a state\\u2019s legislature. Gerrymandering is usually accomplished by concentrating voters who tend to favor a particular party in a small number of districts to reduce their statewide voting power - called packing - while scattering others in districts in numbers too small to be a majority - called cracking. The Supreme Court for decades has been willing to invalidate state electoral maps on the grounds of racial discrimination but never those drawn simply for partisan advantage. Roberts raised concerns about the high court approving or rejecting future state electoral maps, suggesting the public could start viewing the court as a political body.  \\u201cThat is going to cause very serious harm to the status and integrity of the decisions of this court in the eyes of the country,\\u201d Roberts added. Some liberal justices wondered what would happen to voters if partisan gerrymandering made election results preordained. \\u201cWhat incentive is there for a voter to exercise his vote?\\u201d Justice Ruth Bader Ginsburg asked. \\u201cWhat becomes of the precious right to vote?\\u201d Wisconsin\\u2019s electoral map, drawn after the 2010 U.S. census, enabled Republicans to win a sizable majority of Wisconsin legislative seats despite losing the popular vote statewide to the Democrats. The party\\u2019s majority has since expanded. The plaintiffs\\u2019 attorney, Paul Smith, urged the justices to act. \\u201cIf you let this go,\\u201d he said, \\u201cin 2020 you\\u2019re going to have a festival of copycat gerrymandering, the likes of which this country has never seen.\\u201d \\u201cYou are the only institution in the United States ... that can solve this problem,\\u201d Smith added. \",\n          \"BRUSSELS (Reuters) - European Union Brexit negotiator Michel Barnier assured Ireland s foreign minister on Friday that the EU would defend Dublin s position in talks with Britain over the coming weeks. Barnier said on Twitter that he had updated Simon Coveney on the state of play in negotiations, in which Britain is hoping to clinch a deal with Brussels next month on a range of issues including management of the Northern Irish border in order to launch a second phase of discussions focusing on a trade accord.  Strong solidarity with Ireland,  Barnier wrote.  Irish issues are EU issues.  Coveney tweeted back:  Thank u @MichelBarnier reaffirming EU solidarity with Ireland on #Brexit.  Facing a possible government collapse and new elections just at a crucial point in the Brexit process, the Irish government has sharpened the tone of its demands from London for detail on how the border will be kept open and unhindered. It has warned it will veto moves to trade talks if it is not satisfied. \"\n        ],\n        \"semantic_type\": \"\",\n        \"description\": \"\"\n      }\n    },\n    {\n      \"column\": \"subject\",\n      \"properties\": {\n        \"dtype\": \"category\",\n        \"num_unique_values\": 8,\n        \"samples\": [\n          \"News\",\n          \"Government News\",\n          \"politicsNews\"\n        ],\n        \"semantic_type\": \"\",\n        \"description\": \"\"\n      }\n    },\n    {\n      \"column\": \"date\",\n      \"properties\": {\n        \"dtype\": \"category\",\n        \"num_unique_values\": 2397,\n        \"samples\": [\n          \"August 21, 2016\",\n          \"March 25, 2016\",\n          \"March 31, 2017 \"\n        ],\n        \"semantic_type\": \"\",\n        \"description\": \"\"\n      }\n    },\n    {\n      \"column\": \"label\",\n      \"properties\": {\n        \"dtype\": \"number\",\n        \"std\": 0,\n        \"min\": 0,\n        \"max\": 1,\n        \"num_unique_values\": 2,\n        \"samples\": [\n          0,\n          1\n        ],\n        \"semantic_type\": \"\",\n        \"description\": \"\"\n      }\n    }\n  ]\n}"
            }
          },
          "metadata": {},
          "execution_count": 13
        }
      ]
    },
    {
      "cell_type": "code",
      "source": [
        "x = df.drop([\"date\", \"label\"], axis =1)\n",
        "y = df[\"label\"]"
      ],
      "metadata": {
        "id": "o0kbqGvWMmzy"
      },
      "execution_count": 18,
      "outputs": []
    },
    {
      "cell_type": "code",
      "source": [
        "import tensorflow as tf"
      ],
      "metadata": {
        "id": "dSHveA7yNKiQ"
      },
      "execution_count": 21,
      "outputs": []
    },
    {
      "cell_type": "code",
      "source": [
        "from tensorflow.keras.layers import Embedding\n",
        "from tensorflow.keras.preprocessing.sequence import pad_sequences\n",
        "from tensorflow.keras.models import Sequential\n",
        "from tensorflow.keras.preprocessing.text import one_hot\n",
        "from tensorflow.keras.layers import LSTM\n",
        "from tensorflow.keras.layers import Dense"
      ],
      "metadata": {
        "id": "aHinJ_KYNejQ"
      },
      "execution_count": 24,
      "outputs": []
    },
    {
      "cell_type": "code",
      "source": [
        "vocab_size =  5000"
      ],
      "metadata": {
        "id": "1boy5gtnOUaU"
      },
      "execution_count": null,
      "outputs": []
    },
    {
      "cell_type": "markdown",
      "source": [
        "# **Prepare the Text Column**"
      ],
      "metadata": {
        "id": "k3lcsjtSWLDJ"
      }
    },
    {
      "cell_type": "code",
      "source": [
        "# use text, or combine both if text and title are existed\n",
        "\n",
        "df[\"content\"] = df[\"title\"] + \" \" + df[\"text\"] if \"title\" in df.columns else df[\"text\"]"
      ],
      "metadata": {
        "id": "dSbAZznkOjJZ"
      },
      "execution_count": 30,
      "outputs": []
    },
    {
      "cell_type": "markdown",
      "source": [
        "# **Text Cleaning (Basic)**"
      ],
      "metadata": {
        "id": "6POL-eBLXRZP"
      }
    },
    {
      "cell_type": "code",
      "source": [
        "import re\n",
        "\n",
        "def clean_text(text):\n",
        "  text = re.sub(r\"http\\s+\", \"\", text)\n",
        "  text = re.sub(r\"a-zA-Z\", \"\", text)\n",
        "  text = text.lower()\n",
        "  return text\n",
        "\n",
        "df[\"cleaned\"] = df[\"content\"].apply(clean_text)"
      ],
      "metadata": {
        "id": "wBdbwsWJO2Mw"
      },
      "execution_count": 34,
      "outputs": []
    },
    {
      "cell_type": "markdown",
      "source": [
        "# **Tokenization and Padding**"
      ],
      "metadata": {
        "id": "uCmFFCM2ZVMS"
      }
    },
    {
      "cell_type": "code",
      "source": [
        "from tensorflow.keras.preprocessing.text import Tokenizer\n",
        "from tensorflow.keras.preprocessing.sequence import pad_sequences\n",
        "\n",
        "max_word = 5000\n",
        "max_len = 500\n",
        "\n",
        "\n",
        "#Tokenzer\n",
        "tokenizer = Tokenizer(num_words=max_word)\n",
        "tokenizer.fit_on_texts(df[\"cleaned\"])\n",
        "sequences = tokenizer.texts_to_sequences(df[\"cleaned\"])\n",
        "\n",
        "# Padding\n",
        "\n",
        "X = pad_sequences(sequences, maxlen =max_len)\n",
        "y = df[\"label\"].values"
      ],
      "metadata": {
        "id": "7-6qkW2JZS4_"
      },
      "execution_count": 39,
      "outputs": []
    },
    {
      "cell_type": "markdown",
      "source": [
        "# **Train-Test Split**"
      ],
      "metadata": {
        "id": "rJtmCpNEb5Ii"
      }
    },
    {
      "cell_type": "code",
      "source": [
        "from sklearn.model_selection import train_test_split\n",
        "\n",
        "X_train, X_text, y_train, y_test = train_test_split(X, y, test_size = 0.2, random_state = 42)"
      ],
      "metadata": {
        "id": "6xVbMfYzb8NI"
      },
      "execution_count": 41,
      "outputs": []
    },
    {
      "cell_type": "markdown",
      "source": [
        "# **Build the LSTM Model**"
      ],
      "metadata": {
        "id": "fMy7e3vzcb5H"
      }
    },
    {
      "cell_type": "code",
      "source": [
        "from tensorflow.keras.models import Sequential\n",
        "from tensorflow.keras.layers import Dense, LSTM, Embedding, Dropout\n",
        "\n",
        "model = Sequential()\n",
        "model.add(Embedding(input_dim = max_word, output_dim = 64, input_length = max_len ))\n",
        "model.add(LSTM(64, return_sequences = False))\n",
        "model.add(Dropout(0.5))\n",
        "model.add(Dense(1, activation = \"sigmoid\"))\n",
        "\n",
        "\n",
        "model.compile(loss=\"binary_crossentropy\", optimizer = \"adam\", metrics =[\"accuracy\"])"
      ],
      "metadata": {
        "id": "Le2ZAM4ucboV"
      },
      "execution_count": 50,
      "outputs": []
    },
    {
      "cell_type": "markdown",
      "source": [
        "#  **Train the Model**"
      ],
      "metadata": {
        "id": "DMkYWp4HeFSV"
      }
    },
    {
      "cell_type": "code",
      "source": [
        "model.fit(X_train, y_train, epochs = 5, batch_size = 64, validation_split = 0.2)"
      ],
      "metadata": {
        "colab": {
          "base_uri": "https://localhost:8080/"
        },
        "id": "iYfp-D6BeIV4",
        "outputId": "77441929-7e08-4c14-9477-a2682d95e224"
      },
      "execution_count": 52,
      "outputs": [
        {
          "output_type": "stream",
          "name": "stdout",
          "text": [
            "Epoch 1/5\n",
            "\u001b[1m449/449\u001b[0m \u001b[32m━━━━━━━━━━━━━━━━━━━━\u001b[0m\u001b[37m\u001b[0m \u001b[1m197s\u001b[0m 440ms/step - accuracy: 0.9882 - loss: 0.0436 - val_accuracy: 0.9910 - val_loss: 0.0330\n",
            "Epoch 2/5\n",
            "\u001b[1m449/449\u001b[0m \u001b[32m━━━━━━━━━━━━━━━━━━━━\u001b[0m\u001b[37m\u001b[0m \u001b[1m194s\u001b[0m 422ms/step - accuracy: 0.9919 - loss: 0.0277 - val_accuracy: 0.9815 - val_loss: 0.0668\n",
            "Epoch 3/5\n",
            "\u001b[1m449/449\u001b[0m \u001b[32m━━━━━━━━━━━━━━━━━━━━\u001b[0m\u001b[37m\u001b[0m \u001b[1m200s\u001b[0m 418ms/step - accuracy: 0.9915 - loss: 0.0303 - val_accuracy: 0.9926 - val_loss: 0.0287\n",
            "Epoch 4/5\n",
            "\u001b[1m449/449\u001b[0m \u001b[32m━━━━━━━━━━━━━━━━━━━━\u001b[0m\u001b[37m\u001b[0m \u001b[1m203s\u001b[0m 420ms/step - accuracy: 0.9947 - loss: 0.0199 - val_accuracy: 0.9908 - val_loss: 0.0323\n",
            "Epoch 5/5\n",
            "\u001b[1m449/449\u001b[0m \u001b[32m━━━━━━━━━━━━━━━━━━━━\u001b[0m\u001b[37m\u001b[0m \u001b[1m207s\u001b[0m 433ms/step - accuracy: 0.9283 - loss: 0.2316 - val_accuracy: 0.9897 - val_loss: 0.0409\n"
          ]
        },
        {
          "output_type": "execute_result",
          "data": {
            "text/plain": [
              "<keras.src.callbacks.history.History at 0x78339054b310>"
            ]
          },
          "metadata": {},
          "execution_count": 52
        }
      ]
    },
    {
      "cell_type": "markdown",
      "source": [],
      "metadata": {
        "id": "p5PaMjz7eFKB"
      }
    },
    {
      "cell_type": "markdown",
      "source": [
        "#  **Evaluate the Model**"
      ],
      "metadata": {
        "id": "87QetRXre1tY"
      }
    },
    {
      "cell_type": "code",
      "source": [
        "loss, accuracy = model.evaluate(X_text, y_test)\n",
        "print(f\"Test Accuracy: {accuracy:.2f}\")"
      ],
      "metadata": {
        "colab": {
          "base_uri": "https://localhost:8080/"
        },
        "id": "3qwOKbXJe5pi",
        "outputId": "e90755e3-97ea-4c9d-f72a-3bc6319d9c88"
      },
      "execution_count": 54,
      "outputs": [
        {
          "output_type": "stream",
          "name": "stdout",
          "text": [
            "\u001b[1m281/281\u001b[0m \u001b[32m━━━━━━━━━━━━━━━━━━━━\u001b[0m\u001b[37m\u001b[0m \u001b[1m24s\u001b[0m 86ms/step - accuracy: 0.9859 - loss: 0.0511\n",
            "Test Accuracy: 0.99\n"
          ]
        }
      ]
    },
    {
      "cell_type": "markdown",
      "source": [
        "# **Make Predictions**"
      ],
      "metadata": {
        "id": "doxj9wNvfPlg"
      }
    },
    {
      "cell_type": "code",
      "source": [
        "import numpy as np\n",
        "\n",
        "def predict_news(news_text):\n",
        "    cleaned = clean_text(news_text)\n",
        "    seq = tokenizer.texts_to_sequences([cleaned])\n",
        "    padded = pad_sequences(seq, maxlen=max_len)\n",
        "    pred = model.predict(padded)\n",
        "    return \"REAL\" if pred[0][0] >= 0.5 else \"FAKE\"\n",
        "\n",
        "# Example:\n",
        "print(predict_news(\"NASA announces new planet discovery!\"))\n"
      ],
      "metadata": {
        "colab": {
          "base_uri": "https://localhost:8080/"
        },
        "id": "-59g9EbcfnuC",
        "outputId": "a74367eb-05c6-4414-c400-b2e24dcffec7"
      },
      "execution_count": 59,
      "outputs": [
        {
          "output_type": "stream",
          "name": "stdout",
          "text": [
            "\u001b[1m1/1\u001b[0m \u001b[32m━━━━━━━━━━━━━━━━━━━━\u001b[0m\u001b[37m\u001b[0m \u001b[1m0s\u001b[0m 64ms/step\n",
            "FAKE\n"
          ]
        }
      ]
    },
    {
      "cell_type": "code",
      "source": [
        "model.save(\"lstm_fake_news_model.h5\")"
      ],
      "metadata": {
        "colab": {
          "base_uri": "https://localhost:8080/"
        },
        "id": "8MovqXRvfrul",
        "outputId": "4cdd68e9-6ed4-4cc3-8b22-9837aa8f2ec0"
      },
      "execution_count": 56,
      "outputs": [
        {
          "output_type": "stream",
          "name": "stderr",
          "text": [
            "WARNING:absl:You are saving your model as an HDF5 file via `model.save()` or `keras.saving.save_model(model)`. This file format is considered legacy. We recommend using instead the native Keras format, e.g. `model.save('my_model.keras')` or `keras.saving.save_model(model, 'my_model.keras')`. \n"
          ]
        }
      ]
    },
    {
      "cell_type": "code",
      "source": [],
      "metadata": {
        "id": "AbGWZ48DitC0"
      },
      "execution_count": null,
      "outputs": []
    }
  ]
}